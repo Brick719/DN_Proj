{
  "nbformat": 4,
  "nbformat_minor": 0,
  "metadata": {
    "colab": {
      "provenance": []
    },
    "kernelspec": {
      "name": "python3",
      "display_name": "Python 3"
    },
    "language_info": {
      "name": "python"
    }
  },
  "cells": [
    {
      "cell_type": "code",
      "source": [
        "from google.colab import drive\n",
        "drive.mount('/content/gdrive/')"
      ],
      "metadata": {
        "colab": {
          "base_uri": "https://localhost:8080/"
        },
        "id": "-VnmXx6PRoPY",
        "outputId": "f820379c-9920-4cb1-bee0-0cbb98ba0ec5"
      },
      "execution_count": 8,
      "outputs": [
        {
          "output_type": "stream",
          "name": "stdout",
          "text": [
            "Mounted at /content/gdrive/\n"
          ]
        }
      ]
    },
    {
      "cell_type": "markdown",
      "source": [
        "# 1. CNN 구성"
      ],
      "metadata": {
        "id": "mwae-wjmgw_V"
      }
    },
    {
      "cell_type": "code",
      "source": [
        "import torch\n",
        "import torch.nn as nn\n",
        "from torchvision import transforms\n",
        "from torch.utils.data import Dataset\n",
        "from PIL import Image\n",
        "from torch.utils.data import DataLoader\n",
        "import torch.optim as optim\n",
        "from sklearn.model_selection import train_test_split\n",
        "\n",
        "class CNN(nn.Module):\n",
        "    def __init__(self, num_classes):\n",
        "        super(CNN, self).__init__()\n",
        "        self.features = nn.Sequential(\n",
        "            nn.Conv2d(3, 32, kernel_size=3, padding=1),\n",
        "            nn.ReLU(),\n",
        "            nn.MaxPool2d(2, 2),\n",
        "\n",
        "            nn.Conv2d(32, 64, kernel_size=3, padding=1),\n",
        "            nn.ReLU(),\n",
        "            nn.MaxPool2d(2, 2),\n",
        "\n",
        "            nn.Conv2d(64, 128, kernel_size=3, padding=1),\n",
        "            nn.ReLU(),\n",
        "            nn.MaxPool2d(2, 2),\n",
        "\n",
        "            nn.Conv2d(128, 256, kernel_size=3, padding=1),\n",
        "            nn.ReLU(),\n",
        "            nn.MaxPool2d(2, 2)\n",
        "        )\n",
        "        self.classifier = nn.Sequential(\n",
        "            nn.Flatten(),\n",
        "            nn.Linear(14*14*256, 512),\n",
        "            nn.ReLU(),\n",
        "            nn.Dropout(0.5),\n",
        "            nn.Linear(512, num_classes)\n",
        "        )\n",
        "\n",
        "    def forward(self, x):\n",
        "        x = self.features(x)\n",
        "        x = self.classifier(x)\n",
        "        return x"
      ],
      "metadata": {
        "id": "QwI9r_bbfLj1"
      },
      "execution_count": 50,
      "outputs": []
    },
    {
      "cell_type": "markdown",
      "source": [
        "# 2. 레이블 인코더"
      ],
      "metadata": {
        "id": "j8i4WUthgzzN"
      }
    },
    {
      "cell_type": "code",
      "source": [
        "import json\n",
        "\n",
        "with open('/content/gdrive/MyDrive/03. KOREA UNI/2. Deep Learning/프로젝트/label_encoder.json', 'r', encoding='utf-8') as f:\n",
        "  label_encoder = json.load(f)\n",
        "\n",
        "print(label_encoder)\n",
        "inverse_label_encoder = {v: k for k, v in label_encoder.items()}"
      ],
      "metadata": {
        "colab": {
          "base_uri": "https://localhost:8080/"
        },
        "id": "FZhUVuMS8vqJ",
        "outputId": "bed1fa08-714c-4425-dbcd-a14e582d790b"
      },
      "execution_count": 51,
      "outputs": [
        {
          "output_type": "stream",
          "name": "stdout",
          "text": [
            "{'노르웨이숲': 0, '돈스코이': 1, '라팜 숏헤어': 2, '래그돌': 3, '러시안블루': 4, '먼치킨': 5, '먼치킨 롱헤어': 6, '메인 쿤': 7, '발리니즈': 8, '벵갈': 9, '브리티쉬 숏헤어': 10, '스노우슈': 11, '스코티쉬 스트레이드': 12, '스코티쉬 스트레이드 롱헤어': 13, '스코티쉬 폴드': 14, '스코티쉬 폴드 롱헤어': 15, '시베리안': 16, '시암': 17, '아메리칸 숏헤어': 18, '아메리칸 컬': 19, '아비시니안': 20, '엑조틱 숏헤어': 21, '코랏': 22, '코리안 숏헤어': 23, '터키시 앙고라': 24, '페르시안': 25}\n"
          ]
        }
      ]
    },
    {
      "cell_type": "markdown",
      "source": [
        "# 3. 추론"
      ],
      "metadata": {
        "id": "HcMrjTDig31L"
      }
    },
    {
      "cell_type": "code",
      "execution_count": 52,
      "metadata": {
        "id": "hhxOqHqdueOo",
        "colab": {
          "base_uri": "https://localhost:8080/"
        },
        "outputId": "de017563-f56f-4962-f552-afc9754df942"
      },
      "outputs": [
        {
          "output_type": "stream",
          "name": "stdout",
          "text": [
            "예측 품종: 스코티쉬 폴드\n"
          ]
        }
      ],
      "source": [
        "from torchvision import transforms\n",
        "def predict(image_path, model, label_encoder, transform, device):\n",
        "    image = Image.open(image_path).convert('RGB')\n",
        "    img_t = transform(image).unsqueeze(0).to(device)\n",
        "\n",
        "    with torch.no_grad():\n",
        "        outputs = model(img_t)\n",
        "        _, pred = torch.max(outputs, 1)\n",
        "        breed = label_encoder.get(pred.cpu().numpy()[0].item())\n",
        "    return breed\n",
        "\n",
        "# 이미지 변환 정의\n",
        "transform = transforms.Compose([\n",
        "    transforms.Resize((224,224)),\n",
        "    transforms.ToTensor(),\n",
        "    transforms.Normalize(mean=[0.485,0.456,0.406],\n",
        "                         std=[0.229,0.224,0.225]),\n",
        "])\n",
        "\n",
        "\n",
        "\n",
        "# 모델 초기화 및 weight 로딩\n",
        "test_image_path = '/content/gdrive/MyDrive/03. KOREA UNI/2. Deep Learning/프로젝트/TEST_DATA/frame_540_timestamp_18000.jpg'\n",
        "device = torch.device(\"cuda\" if torch.cuda.is_available() else \"cpu\")\n",
        "\n",
        "\n",
        "\n",
        "\n",
        "\n",
        "model = CNN(26)\n",
        "model_path = \"/content/gdrive/MyDrive/03. KOREA UNI/2. Deep Learning/프로젝트/MODEL/cnn_model_top10.pth\"\n",
        "checkpoint = torch.load(model_path, map_location=device)\n",
        "\n",
        "state_dict = {k: v for k, v in checkpoint.items() if not k.startswith('classifier.4.')}\n",
        "\n",
        "model_dict = model.state_dict()\n",
        "model_dict.update(state_dict)\n",
        "model.load_state_dict(model_dict)\n",
        "\n",
        "model.eval()\n",
        "\n",
        "# 예측\n",
        "predicted_breed = predict(test_image_path, model, inverse_label_encoder , transform, device)\n",
        "print(f\"예측 품종: {predicted_breed}\")\n"
      ]
    },
    {
      "cell_type": "code",
      "source": [
        "코리안 숏헤어 터키시 앙고라 아비시니안 코리안숏헤어"
      ],
      "metadata": {
        "id": "wpbGi7vkRg6Q"
      },
      "execution_count": null,
      "outputs": []
    }
  ]
}